{
  "nbformat": 4,
  "nbformat_minor": 0,
  "metadata": {
    "colab": {
      "name": "Análisis_Léxico.ipynb",
      "provenance": [],
      "authorship_tag": "ABX9TyPVI443cE66asW5QQSJKbV8",
      "include_colab_link": true
    },
    "kernelspec": {
      "name": "python3",
      "display_name": "Python 3"
    }
  },
  "cells": [
    {
      "cell_type": "markdown",
      "metadata": {
        "id": "view-in-github",
        "colab_type": "text"
      },
      "source": [
        "<a href=\"https://colab.research.google.com/github/Jericohm/Compiladores/blob/main/An%C3%A1lisis_L%C3%A9xico.ipynb\" target=\"_parent\"><img src=\"https://colab.research.google.com/assets/colab-badge.svg\" alt=\"Open In Colab\"/></a>"
      ]
    },
    {
      "cell_type": "code",
      "metadata": {
        "colab": {
          "base_uri": "https://localhost:8080/"
        },
        "id": "NKozewHBpJdo",
        "outputId": "581d98cf-8907-4d0e-f46b-5e883c2b7296"
      },
      "source": [
        "def esSeparador(s):\r\n",
        "  if (s==\" \" or s==\"\\t\" or s==\"\\n\"):\r\n",
        "    return True\r\n",
        "  else:\r\n",
        "    return False\r\n",
        "\r\n",
        "def esSimboloEsp(s):\r\n",
        "  simboloEsp = \",;:?$%&/(){}[]+\"\r\n",
        "  if s in simboloEsp:\r\n",
        "    return True\r\n",
        "  else:\r\n",
        "    return False\r\n",
        "\r\n",
        "texto = \"main()\\n int var1, var2, var3; \\n var1 = 4;\"\r\n",
        "print(texto,\"\\n\")\r\n",
        "\r\n",
        "tokens = []\r\n",
        "dentro = False\r\n",
        "cad = \"\"\r\n",
        "for c in texto:\r\n",
        "  if dentro:\r\n",
        "    if esSeparador(c):\r\n",
        "      tokens.append(cad)\r\n",
        "      cad = \"\"\r\n",
        "      dentro = False\r\n",
        "    elif esSimboloEsp(c):\r\n",
        "      tokens.append(cad)\r\n",
        "      tokens.append(c)\r\n",
        "      cad = \"\"\r\n",
        "      dentro = False\r\n",
        "    else:\r\n",
        "      cad = cad + c\r\n",
        "  else:\r\n",
        "    if esSimboloEsp(c):\r\n",
        "      tokens.append(c)\r\n",
        "    elif esSeparador(c):\r\n",
        "      pass\r\n",
        "    else:\r\n",
        "      cad = c\r\n",
        "      dentro = True\r\n",
        "print(tokens)"
      ],
      "execution_count": 34,
      "outputs": [
        {
          "output_type": "stream",
          "text": [
            "main()\n",
            " int var1, var2, var3; \n",
            " var1 = 4; \n",
            "\n",
            "['main', '(', ')', 'int', 'var1', ',', 'var2', ',', 'var3', ';', 'var1', '=', '4', ';']\n"
          ],
          "name": "stdout"
        }
      ]
    },
    {
      "cell_type": "code",
      "metadata": {
        "colab": {
          "base_uri": "https://localhost:8080/"
        },
        "id": "tBVhOxXysVXA",
        "outputId": "4bba2bcd-c140-49f3-f6f4-7fb19af766f6"
      },
      "source": [
        "esSeparador(\" \")\r\n",
        "esSimboloEsp(\"+\")"
      ],
      "execution_count": 25,
      "outputs": [
        {
          "output_type": "execute_result",
          "data": {
            "text/plain": [
              "True"
            ]
          },
          "metadata": {
            "tags": []
          },
          "execution_count": 25
        }
      ]
    }
  ]
}